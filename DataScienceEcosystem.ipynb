{
 "cells": [
  {
   "cell_type": "markdown",
   "id": "f1ea513d",
   "metadata": {},
   "source": [
    "# Data Science Tools and Ecosystem"
   ]
  },
  {
   "cell_type": "markdown",
   "id": "99b81e4c",
   "metadata": {},
   "source": [
    "In this notebook, Data Science Tools and Ecosystem are summarized."
   ]
  },
  {
   "cell_type": "markdown",
   "id": "7e0bc997",
   "metadata": {},
   "source": [
    "Some of the popular languages that Data Scientists use are:\n",
    "<ol>\n",
    "    <li>Python</li>\n",
    "    <li>R </li>\n",
    "    <li>Java</li>\n",
    "<o/>"
   ]
  },
  {
   "cell_type": "markdown",
   "id": "923121fa",
   "metadata": {},
   "source": [
    "Some of the commonly used libraries used by Data Scientists include:\n",
    "<ol>\n",
    "    <li>Panda</li>\n",
    "    <li>matplotlib </li>\n",
    "    <li>ski-learn</li>\n",
    "<o/>\n"
   ]
  },
  {
   "cell_type": "markdown",
   "id": "6169a1d9",
   "metadata": {},
   "source": [
    "<b>Objectives:</b>\n"
   ]
  },
  {
   "cell_type": "markdown",
   "id": "1082c6e9",
   "metadata": {},
   "source": [
    "List popular languages for Data Science:\n",
    "<ul>\n",
    "    <li>Python</li>\n",
    "    <li>R</li>\n",
    "    <li>Java</li>\n",
    "    <li>Julia</li>\n",
    "    <li>Scalar</li>\n",
    "    <li>Javascript</li>\n",
    "</ul>"
   ]
  },
  {
   "cell_type": "markdown",
   "id": "c4fcfcf4",
   "metadata": {},
   "source": [
    "|Data Science Tools| \n",
    "|:-----|\n",
    "|RStudio |\n",
    "|Apache Spark|\n",
    "|Apache Hadoop.|"
   ]
  },
  {
   "cell_type": "markdown",
   "id": "3db010fc",
   "metadata": {},
   "source": [
    "### Below are a few examples of evaluating arithmetic expressions in Python\n",
    "<br>"
   ]
  },
  {
   "cell_type": "code",
   "execution_count": 2,
   "id": "a4097669",
   "metadata": {},
   "outputs": [
    {
     "data": {
      "text/plain": [
       "17"
      ]
     },
     "execution_count": 2,
     "metadata": {},
     "output_type": "execute_result"
    }
   ],
   "source": [
    "# This a simple arithmetic expression to mutiply then add integers\n",
    "(3*4)+5"
   ]
  },
  {
   "cell_type": "code",
   "execution_count": 3,
   "id": "0a74d28c",
   "metadata": {},
   "outputs": [
    {
     "data": {
      "text/plain": [
       "3.3333333333333335"
      ]
     },
     "execution_count": 3,
     "metadata": {},
     "output_type": "execute_result"
    }
   ],
   "source": [
    "# This will convert 200 minutes to hours by diving by 60\n",
    "200 / 60"
   ]
  },
  {
   "cell_type": "markdown",
   "id": "e8341577",
   "metadata": {},
   "source": [
    "## Author\n",
    "Ibediogwu Promise Ekele"
   ]
  },
  {
   "cell_type": "code",
   "execution_count": null,
   "id": "627e31a6",
   "metadata": {},
   "outputs": [],
   "source": []
  }
 ],
 "metadata": {
  "kernelspec": {
   "display_name": "Python 3 (ipykernel)",
   "language": "python",
   "name": "python3"
  },
  "language_info": {
   "codemirror_mode": {
    "name": "ipython",
    "version": 3
   },
   "file_extension": ".py",
   "mimetype": "text/x-python",
   "name": "python",
   "nbconvert_exporter": "python",
   "pygments_lexer": "ipython3",
   "version": "3.11.4"
  }
 },
 "nbformat": 4,
 "nbformat_minor": 5
}
